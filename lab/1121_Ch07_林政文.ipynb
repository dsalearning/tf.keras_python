{
 "cells": [
  {
   "cell_type": "markdown",
   "metadata": {},
   "source": [
    "# Ch7 圖解卷積神經網路(CNN)\n",
    "\n",
    "## 7-1 影像資料的穩定性問題\n",
    "\n",
    "## 7-2 卷積運算與池化運算\n",
    "\n",
    "卷積神經網路的核心觀念就是卷積與池化運算\n",
    "\n",
    "## 7-2-1 認識卷積與池化運算\n",
    "\n",
    "卷積運算 + 池化運算 => 特徵萃取\n",
    "\n",
    "**卷積運算**\n",
    "\n",
    "在輸入圖片執行卷積運算前, 我們需要先定義過濾器(Filters)的濾鏡大小, 就是要找特徵.\n",
    "\n",
    "矩陣相乘\n",
    "\n",
    "$\\begin{bmatrix}1 & 2 \\\\3 & 4 \\end{bmatrix} \\begin{bmatrix}5 & 6 \\\\7 & 8 \\end{bmatrix} = \\begin{bmatrix}1*5+2*7 & 1*6+2*8 \\\\ 3*5+4*7 & 3*6+4*8 \\end{bmatrix}  = \\begin{bmatrix}19 & 22 \\\\43 & 50 \\end{bmatrix} $ => 行 * 列\n",
    "\n",
    "矩陣的內積\n",
    "\n",
    "$ \\begin{bmatrix}1 & 3 \\\\2 & 4 \\end{bmatrix}. \\begin{bmatrix}0 & 3 \\\\5 & 1 \\end{bmatrix} = 1*0+3*3+2*5+4*1 = 23$\n",
    "\n",
    "矩陣的卷積\n",
    "\n",
    "$ \\begin{bmatrix}1 & 3 \\\\2 & 4 \\end{bmatrix} \\begin{bmatrix}2 & 0 & 8 & 6 \\\\9 & 2 & 4 & 8 \\\\3 & 1 & 2 & 0 \\\\6 & 4 & 2 & 3 \\end{bmatrix}$ --由左至右,從上到下內積--> \n",
    "\n",
    "$ \\begin{bmatrix}1 & 3 \\\\2 & 4 \\end{bmatrix}. \\begin{bmatrix}2 & 0 \\\\9 & 2 \\end{bmatrix} = 1*2+3*0+2*9+4*2 = 28$\n",
    "\n",
    "$ \\begin{bmatrix}1 & 3 \\\\2 & 4 \\end{bmatrix}. \\begin{bmatrix}0 & 8 \\\\2 & 4 \\end{bmatrix} = 1*0+3*8+2*2+4*4 = 44$\n",
    "\n",
    ",... --內積-->$\\begin{bmatrix}28 & 44 & 66 \\\\25 & 24 & 32 \\\\34 & 23 & 18 \\end{bmatrix}$\n",
    "\n",
    "\n",
    "**銳化濾鏡**\n",
    "\n",
    "$\\begin{bmatrix}0 & -2 & 0 \\\\-2 & 15 & -2 \\\\0 & -2 & 0 \\end{bmatrix}$\n",
    "\n",
    "**邊綠化濾鏡**\n",
    "\n",
    "$\\begin{bmatrix}1 & 1 & 1 \\\\1 & -6 & 1 \\\\1 & 1 & 1 \\end{bmatrix}$\n",
    "\n",
    "**模糊濾鏡**\n",
    "\n",
    "$\\begin{bmatrix}3 & 0 & 3 \\\\0 & 0 & 0 \\\\3 & 0 & 3 \\end{bmatrix}$\n",
    "\n",
    "**上方邊線**\n",
    "\n",
    "$\\begin{bmatrix}-1 & -1 & -1 \\\\1 & 1 & 1 \\\\0 & 0 & 0 \\end{bmatrix}$\n",
    "\n",
    "**下方邊線**\n",
    "\n",
    "$\\begin{bmatrix}0 & 0 & 0 \\\\1 & 1 & 1 \\\\-1 & -1 & -1 \\end{bmatrix}$\n",
    "\n",
    "**垂直的左邊線**\n",
    "\n",
    "$\\begin{bmatrix}-1 & 1 & 0 \\\\-1 & 1 & 0 \\\\-1 & 1 & 0 \\end{bmatrix}$\n",
    "\n",
    "**垂直右邊邊線**\n",
    "\n",
    "$\\begin{bmatrix}0 & 1 & -1 \\\\0 & 1 & -1 \\\\0 & 1 & -1 \\end{bmatrix}$\n",
    "\n",
    "\n",
    "**池化運算**\n",
    "\n",
    "池化運算可以壓縮和保留特徵圖的重要資訊\n",
    "\n",
    "$\\begin{bmatrix}2 & 0 & 8 & 6 \\\\9 & 2 & 4 & 8 \\\\3 & 1 & 2 & 0 \\\\6 & 4 & 2 & 3 \\end{bmatrix}$ --最大池化法(Max Pooling)--> $\\begin{bmatrix}9 & 8 \\\\6 & 3 \\end{bmatrix}$\n",
    "\n",
    "\n"
   ]
  },
  {
   "cell_type": "code",
   "execution_count": 2,
   "metadata": {},
   "outputs": [
    {
     "data": {
      "image/png": "[encoded data removed]",
      "text/plain": [
       "<Figure size 432x288 with 1 Axes>"
      ]
     },
     "metadata": {
      "needs_background": "light"
     },
     "output_type": "display_data"
    }
   ],
   "source": [
    "# Ch7_2_2.py\n",
    "\n",
    "import numpy as np\n",
    "import matplotlib.pyplot as plt\n",
    "\n",
    "img = np.load(\"digit8.npy\")\n",
    "\n",
    "plt.figure()\n",
    "plt.imshow(img, cmap=\"gray\")\n",
    "plt.axis(\"off\")\n",
    "plt.show()"
   ]
  },
  {
   "cell_type": "code",
   "execution_count": 3,
   "metadata": {},
   "outputs": [
    {
     "data": {
      "image/png": "[encoded data removed]",
      "text/plain": [
       "<Figure size 432x288 with 2 Axes>"
      ]
     },
     "metadata": {
      "needs_background": "light"
     },
     "output_type": "display_data"
    }
   ],
   "source": [
    "# Ch7_2_2.py\n",
    "# P7-2\n",
    "import numpy as np\n",
    "import matplotlib.pyplot as plt\n",
    "from scipy import signal\n",
    "\n",
    "img = np.load(\"digit8.npy\")\n",
    "edge = [\n",
    "    [0, 1, 0],\n",
    "    [2, -4, 1],\n",
    "    [0, 1, 0]\n",
    "]\n",
    "\n",
    "plt.figure()\n",
    "plt.subplot(1, 2, 1) # 一列, 二行, 第1張\n",
    "plt.imshow(img, cmap=\"gray\")\n",
    "plt.axis(\"off\")\n",
    "plt.title(\"original image\")\n",
    "\n",
    "plt.subplot(1, 2, 2)\n",
    "c_digit = signal.convolve2d(img, edge, boundary=\"symm\", mode=\"same\")\n",
    "plt.imshow(c_digit, cmap=\"gray\")\n",
    "plt.axis(\"off\")\n",
    "plt.title(\"edge-detection image\")\n",
    "plt.show()"
   ]
  },
  {
   "cell_type": "code",
   "execution_count": 16,
   "metadata": {},
   "outputs": [
    {
     "data": {
      "image/png": "[encoded data removed]",
      "text/plain": [
       "<Figure size 432x288 with 2 Axes>"
      ]
     },
     "metadata": {
      "needs_background": "light"
     },
     "output_type": "display_data"
    }
   ],
   "source": [
    "# Ch7_2_2.py\n",
    "# 模糊濾鏡\n",
    "import numpy as np\n",
    "import matplotlib.pyplot as plt\n",
    "from scipy import signal\n",
    "\n",
    "img = np.load(\"digit8.npy\")\n",
    "edge = [\n",
    "    [3, 0, 3],\n",
    "    [0, -5, 0],\n",
    "    [3, 0, 3]\n",
    "]\n",
    "\n",
    "plt.figure()\n",
    "plt.subplot(1, 2, 1) # 一列, 二行, 第1張\n",
    "plt.imshow(img, cmap=\"gray\")\n",
    "plt.axis(\"off\")\n",
    "plt.title(\"original image\")\n",
    "\n",
    "plt.subplot(1, 2, 2)\n",
    "c_digit = signal.convolve2d(img, edge, boundary=\"symm\", mode=\"same\")\n",
    "plt.imshow(c_digit, cmap=\"gray\")\n",
    "plt.axis(\"off\")\n",
    "plt.title(\"edge-detection image\")\n",
    "plt.show()"
   ]
  },
  {
   "cell_type": "code",
   "execution_count": 24,
   "metadata": {},
   "outputs": [
    {
     "data": {
      "image/png": "[encoded data removed]",
      "text/plain": [
       "<Figure size 432x288 with 7 Axes>"
      ]
     },
     "metadata": {
      "needs_background": "light"
     },
     "output_type": "display_data"
    }
   ],
   "source": [
    "# Ch7_2_2.py\n",
    "# 模糊濾鏡\n",
    "import numpy as np\n",
    "import matplotlib.pyplot as plt\n",
    "from scipy import signal\n",
    "\n",
    "img = np.load(\"digit8.npy\")\n",
    "filters = [[\n",
    "    [-1, -1, -1],\n",
    "    [1, 1, 1],\n",
    "    [0, 0, 0]],\n",
    "    [[-1, 1, 0],\n",
    "    [-1, 1, 0],\n",
    "    [-1, 1, 0]],\n",
    "    [[0, 0, 0],\n",
    "    [1, 1, 1],\n",
    "    [-1, -1, -1]],\n",
    "    [[0, 1, -1],\n",
    "    [0, 1, -1],\n",
    "    [0, 1, -1]],\n",
    "    [[0, 0, 0],\n",
    "    [0, 0, 0],\n",
    "    [0, 0, 0]],\n",
    "    [[1, 1, 1],\n",
    "    [1, 1, 1],\n",
    "    [1, 1, 1]]\n",
    "]\n",
    "\n",
    "plt.figure()\n",
    "plt.subplot(1, 7, 1) # 一列, 5行, 第1張\n",
    "plt.imshow(img, cmap=\"gray\")\n",
    "plt.axis(\"off\")\n",
    "plt.title(\"original img\")\n",
    "\n",
    "for i in range(2,8):\n",
    "    plt.subplot(1, 7, i)\n",
    "    c = signal.convolve2d(img, filters[i-2], boundary=\"symm\", mode=\"same\")\n",
    "    plt.imshow(c, cmap=\"gray\")\n",
    "    plt.axis(\"off\")\n",
    "    plt.title(\"filter\"+str(i-1))\n",
    "\n",
    "plt.show()"
   ]
  },
  {
   "cell_type": "markdown",
   "metadata": {},
   "source": []
  }
 ],
 "metadata": {
  "kernelspec": {
   "display_name": "Python 3",
   "language": "python",
   "name": "python3"
  },
  "language_info": {
   "codemirror_mode": {
    "name": "ipython",
    "version": 3
   },
   "file_extension": ".py",
   "mimetype": "text/x-python",
   "name": "python",
   "nbconvert_exporter": "python",
   "pygments_lexer": "ipython3",
   "version": "3.7.7"
  }
 },
 "nbformat": 4,
 "nbformat_minor": 4
}
