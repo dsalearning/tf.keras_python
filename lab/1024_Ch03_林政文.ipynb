{
 "cells": [
  {
   "cell_type": "code",
   "execution_count": 1,
   "metadata": {},
   "outputs": [
    {
     "name": "stdout",
     "output_type": "stream",
     "text": [
      "The Zen of Python, by Tim Peters\n",
      "\n",
      "Beautiful is better than ugly.\n",
      "Explicit is better than implicit.\n",
      "Simple is better than complex.\n",
      "Complex is better than complicated.\n",
      "Flat is better than nested.\n",
      "Sparse is better than dense.\n",
      "Readability counts.\n",
      "Special cases aren't special enough to break the rules.\n",
      "Although practicality beats purity.\n",
      "Errors should never pass silently.\n",
      "Unless explicitly silenced.\n",
      "In the face of ambiguity, refuse the temptation to guess.\n",
      "There should be one-- and preferably only one --obvious way to do it.\n",
      "Although that way may not be obvious at first unless you're Dutch.\n",
      "Now is better than never.\n",
      "Although never is often better than *right* now.\n",
      "If the implementation is hard to explain, it's a bad idea.\n",
      "If the implementation is easy to explain, it may be a good idea.\n",
      "Namespaces are one honking great idea -- let's do more of those!\n"
     ]
    }
   ],
   "source": [
    "import this"
   ]
  },
  {
   "cell_type": "code",
   "execution_count": 4,
   "metadata": {},
   "outputs": [
    {
     "name": "stderr",
     "output_type": "stream",
     "text": [
      "Using TensorFlow backend.\n"
     ]
    },
    {
     "data": {
      "text/plain": [
       "'2.2.5'"
      ]
     },
     "execution_count": 4,
     "metadata": {},
     "output_type": "execute_result"
    }
   ],
   "source": [
    "import keras\n",
    "keras.__version__"
   ]
  },
  {
   "cell_type": "code",
   "execution_count": 5,
   "metadata": {},
   "outputs": [
    {
     "data": {
      "text/plain": [
       "'1.14.0'"
      ]
     },
     "execution_count": 5,
     "metadata": {},
     "output_type": "execute_result"
    }
   ],
   "source": [
    "import tensorflow as tf\n",
    "tf.__version__"
   ]
  },
  {
   "cell_type": "markdown",
   "metadata": {},
   "source": [
    "# 標題一\n",
    "## 標題二\n",
    "###### 標題六"
   ]
  },
  {
   "cell_type": "markdown",
   "metadata": {},
   "source": [
    "### 標題三\n",
    "\n",
    "* 紅\n",
    "    * 粉紅\n",
    "* 藍\n",
    "* 綠"
   ]
  },
  {
   "cell_type": "markdown",
   "metadata": {},
   "source": [
    "1. Number 1\n",
    "1. Number 2\n",
    "1. Number 3\n",
    "1. Number 4"
   ]
  },
  {
   "cell_type": "markdown",
   "metadata": {},
   "source": [
    "```\n",
    "a = 0\n",
    "for i in range(10):\n",
    "    a = a + i\n",
    "```"
   ]
  },
  {
   "cell_type": "markdown",
   "metadata": {},
   "source": [
    "$f(x)=x^2 $"
   ]
  },
  {
   "cell_type": "markdown",
   "metadata": {},
   "source": [
    "$ f(x)=3x^2 + 2xy + y^2 $"
   ]
  },
  {
   "attachments": {
    "image.png": {
     "image/png": "[encoded data removed]"
    }
   },
   "cell_type": "markdown",
   "metadata": {},
   "source": [
    "![image.png](attachment:image.png)\n",
    "圖片來源: [markdown.tw](https://markdown.tw/images/208x128.png)"
   ]
  },
  {
   "cell_type": "markdown",
   "metadata": {},
   "source": [
    "## 微分 Differentiation\n",
    "\n",
    "$ f(x) = ax^n $\n",
    "\n",
    "$ \\frac{df(x)}{dx}=anx^{n-1}$"
   ]
  },
  {
   "cell_type": "markdown",
   "metadata": {},
   "source": [
    "$f(x)=2x^3+5x+2$\n",
    "\n",
    "對x微分\n",
    "\n",
    "$\\frac{df(x)}{dx}=6x^2+5$"
   ]
  },
  {
   "cell_type": "markdown",
   "metadata": {},
   "source": [
    "## 偏微分 Partial Differentiation\n",
    "\n",
    "$f(x,y)=2x^3 + 6xy^2 +4y +2$\n",
    "\n",
    "對x微分\n",
    "\n",
    "$\\frac{\\partial f(x,y)}{\\partial x} = 6x^+6y^2$\n",
    "\n",
    "對y微分\n",
    "\n",
    "$\\frac{\\partial f(x,y)}{\\partial x} = 12xy+4$"
   ]
  },
  {
   "cell_type": "markdown",
   "metadata": {},
   "source": [
    "## 連鎖率 Chain Rule\n",
    "\n",
    "假設 : $f(x)=(2x^3+5x+2)^4$\n",
    "\n",
    "函數 $g(x)$ : $f(h)=h^4$\n",
    "\n",
    "函數 $h(x)$ : $h(x)=2x^3+5x+2$\n",
    "\n",
    "合成函數 $f(x)=g(h(x))$\n",
    "\n",
    "$\\frac{\\partial f(x)}{\\partial x} = \\frac{\\partial f(h)}{\\partial h} \\frac{\\partial h(x)}{\\partial x}$\n",
    "\n",
    "函數$g(x)$微分 : $\\frac{\\partial f(h)}{\\partial h} = 4h^3$\n",
    "\n",
    "函數$h(x)$微分 : $\\frac{\\partial h(x)}{\\partial x} = 6x^2+5$\n"
   ]
  },
  {
   "cell_type": "markdown",
   "metadata": {},
   "source": [
    "## 感知器 Perceptron\n",
    "\n",
    "$z = (\\sum_{i=1}^n w_ix_i)+b$"
   ]
  },
  {
   "cell_type": "markdown",
   "metadata": {},
   "source": [
    " $f(x) =\\begin{cases}1  & 如果xw+b>s \\\\0 & 否則\\end{cases} $\n",
    " \n",
    " 參考網址 : [Sciweavers-iTex2Img](http://www.sciweavers.org/free-online-latex-equation-editor)"
   ]
  },
  {
   "cell_type": "code",
   "execution_count": 13,
   "metadata": {},
   "outputs": [
    {
     "name": "stdout",
     "output_type": "stream",
     "text": [
      "Cheng_Wen's name: Cheng-Wen\n",
      "Cheng_Wen's gender: Male\n",
      "Cheng_Wen's birth: 2020-10-24\n"
     ]
    }
   ],
   "source": [
    "class person():\n",
    "    def __init__(self,_name,_gender,_birth):\n",
    "        self.name=_name\n",
    "        self.gender=_gender\n",
    "        self.birth=_birth\n",
    "        \n",
    "Cheng_Wen = person('Cheng-Wen','Male','2020-10-24')\n",
    "\n",
    "print (\"Cheng_Wen's name: %s\" %Cheng_Wen.name)\n",
    "print (\"Cheng_Wen's gender: %s\" %Cheng_Wen.gender)\n",
    "print(\"Cheng_Wen's birth: %s\" %Cheng_Wen.birth)"
   ]
  },
  {
   "cell_type": "code",
   "execution_count": 14,
   "metadata": {},
   "outputs": [
    {
     "name": "stdout",
     "output_type": "stream",
     "text": [
      "__call_called, print x:  123\n"
     ]
    }
   ],
   "source": [
    "### __call__()的用法:能夠讓類別實例對象, 像函數一樣被調用\n",
    "\n",
    "class A(object):\n",
    "    def __call__(self,x):\n",
    "        print('__call_called, print x: ',x)\n",
    "        \n",
    "a = A()\n",
    "a('123')"
   ]
  },
  {
   "cell_type": "markdown",
   "metadata": {},
   "source": [
    "## Python classmethod 和 staticmethod 用法\n",
    "1. classmethod 和 staticmethod 都可以不用例項化直接呼叫\n",
    "2. 在不改變已經寫好的類裡面的方法的情況下, 用 classmethod 對輸入資料進行處理\n",
    "\n",
    "staticmethod就不用再訂一個 class 變數給它\n"
   ]
  },
  {
   "cell_type": "code",
   "execution_count": 18,
   "metadata": {},
   "outputs": [
    {
     "name": "stdout",
     "output_type": "stream",
     "text": [
      "print out: 3\n",
      "classmethod_sum: 8\n",
      "staticmethod_sum: 11\n"
     ]
    }
   ],
   "source": [
    "class Test():\n",
    "    def __init__(self,a,b):\n",
    "        self.a=int(a)\n",
    "        self.b=int(b)\n",
    "\n",
    "    def print_out(self):\n",
    "        print(\"print out:\",self.a + self.b)\n",
    "        \n",
    "    @classmethod\n",
    "    def classmethod_sum(cls,a,b):\n",
    "        cls.a=int(a)\n",
    "        cls.b=int(b)\n",
    "        print('classmethod_sum:',cls.a + cls.b)\n",
    "\n",
    "    @staticmethod\n",
    "    def staticmethod_sum(a,b):\n",
    "        print(\"staticmethod_sum:\",a + b)\n",
    "        \n",
    "    @classmethod\n",
    "    def list_to_num(cls, list_num):\n",
    "        print(type(cls(list_num[0],list_num[1])))\n",
    "        return cls(list_num[0],list_num[1])\n",
    "\n",
    "\n",
    "c = Test(1,2)  #這個是呼叫 __init__\n",
    "c.print_out()  #這個就是呼叫print_out, 因為 __init__有給了a,b值\n",
    "c.classmethod_sum(3,5)\n",
    "c.staticmethod_sum(6,5)"
   ]
  },
  {
   "cell_type": "code",
   "execution_count": 22,
   "metadata": {},
   "outputs": [
    {
     "name": "stdout",
     "output_type": "stream",
     "text": [
      "[0 0] 0\n",
      "[0 1] 0\n",
      "[1 0] 0\n",
      "[1 1] 1\n"
     ]
    }
   ],
   "source": [
    "# Ch3_3_2.py\n",
    "\n",
    "import numpy as np\n",
    "\n",
    "class Perceptron:\n",
    "    def __init__(self,input_length, weights=None, bias=None):\n",
    "        if weights is None:\n",
    "            self.weights = np.ones(input_length) * 1\n",
    "        else:\n",
    "            self.weights = weights\n",
    "        \n",
    "        if bias is None:\n",
    "            self.bias = -1\n",
    "        else:\n",
    "            self.bias = bias\n",
    "            \n",
    "    @staticmethod\n",
    "    def activation_function(x):\n",
    "        if x > 0:\n",
    "            return 1\n",
    "        return 0\n",
    "    \n",
    "    def __call__(self,input_data):\n",
    "        weighted_input = self.weights * input_data\n",
    "        weighted_sum = weighted_input.sum() + self.bias\n",
    "        return Perceptron.activation_function(weighted_sum)\n",
    "    \n",
    "weights = np.array([1,1])\n",
    "bias = -1\n",
    "AND_Gate = Perceptron(2,weights, bias)\n",
    "\n",
    "input_data = [np.array([0,0]),np.array([0,1]),\n",
    "             np.array([1,0]),np.array([1,1])]\n",
    "\n",
    "for x in input_data:\n",
    "    out = AND_Gate(np.array(x))\n",
    "    print(x,out)\n",
    "    "
   ]
  },
  {
   "cell_type": "code",
   "execution_count": 32,
   "metadata": {},
   "outputs": [
    {
     "name": "stdout",
     "output_type": "stream",
     "text": [
      "[0 0] 0\n",
      "[0 1] 1\n",
      "[1 0] 1\n",
      "[1 1] 1\n"
     ]
    }
   ],
   "source": [
    "# Ch3_3_2.py\n",
    "\n",
    "import numpy as np\n",
    "\n",
    "class Perceptron:\n",
    "    def __init__(self,input_length, weights=None, bias=None):\n",
    "        if weights is None:\n",
    "            self.weights = np.ones(input_length) * 1\n",
    "        else:\n",
    "            self.weights = weights\n",
    "        \n",
    "        if bias is None:\n",
    "            self.bias = -1\n",
    "        else:\n",
    "            self.bias = bias\n",
    "            \n",
    "    @staticmethod\n",
    "    def activation_function(x):\n",
    "        if x > 0:\n",
    "            return 1\n",
    "        return 0\n",
    "    \n",
    "    def __call__(self,input_data):\n",
    "        weighted_input = self.weights * input_data\n",
    "        weighted_sum = weighted_input.sum() + self.bias\n",
    "        return Perceptron.activation_function(weighted_sum)\n",
    "    \n",
    "weights = np.array([1,1])\n",
    "bias = -0.5\n",
    "OR_Gate = Perceptron(2,weights, bias)\n",
    "\n",
    "input_data = [np.array([0,0]),np.array([0,1]),\n",
    "             np.array([1,0]),np.array([1,1])]\n",
    "\n",
    "for x in input_data:\n",
    "    out = OR_Gate(np.array(x))\n",
    "    print(x,out)\n",
    "    "
   ]
  },
  {
   "cell_type": "code",
   "execution_count": 33,
   "metadata": {},
   "outputs": [
    {
     "name": "stdout",
     "output_type": "stream",
     "text": [
      "[0 0] 1\n",
      "[0 1] 1\n",
      "[1 0] 1\n",
      "[1 1] 0\n"
     ]
    }
   ],
   "source": [
    "# Ch3_3_2.py\n",
    "\n",
    "import numpy as np\n",
    "\n",
    "class Perceptron:\n",
    "    def __init__(self,input_length, weights=None, bias=None):\n",
    "        if weights is None:\n",
    "            self.weights = np.ones(input_length) * 1\n",
    "        else:\n",
    "            self.weights = weights\n",
    "        \n",
    "        if bias is None:\n",
    "            self.bias = -1\n",
    "        else:\n",
    "            self.bias = bias\n",
    "            \n",
    "    @staticmethod\n",
    "    def activation_function(x):\n",
    "        if x > 0:\n",
    "            return 1\n",
    "        return 0\n",
    "    \n",
    "    def __call__(self,input_data):\n",
    "        weighted_input = self.weights * input_data\n",
    "        weighted_sum = weighted_input.sum() + self.bias\n",
    "        return Perceptron.activation_function(weighted_sum)\n",
    "    \n",
    "weights = np.array([-0.5,-0.5])\n",
    "bias = 1\n",
    "OR_Gate = Perceptron(2,weights, bias)\n",
    "\n",
    "input_data = [np.array([0,0]),np.array([0,1]),\n",
    "             np.array([1,0]),np.array([1,1])]\n",
    "\n",
    "for x in input_data:\n",
    "    out = OR_Gate(np.array(x))\n",
    "    print(x,out)"
   ]
  },
  {
   "cell_type": "code",
   "execution_count": 48,
   "metadata": {},
   "outputs": [
    {
     "name": "stdout",
     "output_type": "stream",
     "text": [
      "[0 0] 0\n",
      "[0 1] 0\n",
      "[1 0] 1\n",
      "[1 1] 0\n"
     ]
    }
   ],
   "source": [
    "# Ch3_3_2.py\n",
    "# 這是調不出來的\n",
    "\n",
    "import numpy as np\n",
    "\n",
    "class Perceptron:\n",
    "    def __init__(self,input_length, weights=None, bias=None):\n",
    "        if weights is None:\n",
    "            self.weights = np.ones(input_length) * 1\n",
    "        else:\n",
    "            self.weights = weights\n",
    "        \n",
    "        if bias is None:\n",
    "            self.bias = -1\n",
    "        else:\n",
    "            self.bias = bias\n",
    "            \n",
    "    @staticmethod\n",
    "    def activation_function(x):\n",
    "        if x > 0:\n",
    "            return 1\n",
    "        return 0\n",
    "    \n",
    "    def __call__(self,input_data):\n",
    "        weighted_input = self.weights * input_data\n",
    "        weighted_sum = weighted_input.sum() + self.bias\n",
    "        return Perceptron.activation_function(weighted_sum)\n",
    "    \n",
    "weights = np.array([1,-2])\n",
    "bias = -0.5\n",
    "XOR_Gate = Perceptron(2,weights, bias)\n",
    "\n",
    "input_data = [np.array([0,0]),np.array([0,1]),\n",
    "             np.array([1,0]),np.array([1,1])]\n",
    "\n",
    "for x in input_data:\n",
    "    out = XOR_Gate(np.array(x))\n",
    "    print(x,out)"
   ]
  },
  {
   "cell_type": "markdown",
   "metadata": {},
   "source": [
    "## 3-4 深度學習的資料 - 張量"
   ]
  },
  {
   "cell_type": "code",
   "execution_count": 52,
   "metadata": {},
   "outputs": [
    {
     "name": "stdout",
     "output_type": "stream",
     "text": [
      "10.5\n",
      "0\n",
      "()\n"
     ]
    }
   ],
   "source": [
    "x = np.array(10.5)\n",
    "\n",
    "print(x)\n",
    "print(x.ndim)\n",
    "print(x.shape)"
   ]
  },
  {
   "cell_type": "code",
   "execution_count": 53,
   "metadata": {},
   "outputs": [
    {
     "name": "stdout",
     "output_type": "stream",
     "text": [
      "[[1.2 5.5 8.7 8.5]]\n",
      "2\n",
      "(1, 4)\n"
     ]
    }
   ],
   "source": [
    "#1D\n",
    "\n",
    "x = np.array([1,2,5.5,8.7,10.5])\n",
    "\n",
    "print(x)\n",
    "print(x.ndim)\n",
    "print(x.shape)"
   ]
  },
  {
   "cell_type": "code",
   "execution_count": 54,
   "metadata": {},
   "outputs": [
    {
     "name": "stdout",
     "output_type": "stream",
     "text": [
      "[[1.2 5.5 8.7 8.5]\n",
      " [2.2 4.3 6.5 9.5]\n",
      " [6.2 7.3 1.5 3.5]]\n",
      "2\n",
      "(3, 4)\n"
     ]
    }
   ],
   "source": [
    "#2D\n",
    "\n",
    "x = np.array([[1.2,5.5,8.7,8.5],\n",
    "              [2.2,4.3,6.5,9.5],\n",
    "              [6.2,7.3,1.5,3.5]\n",
    "             ])\n",
    "print(x)\n",
    "print(x.ndim)\n",
    "print(x.shape)"
   ]
  },
  {
   "cell_type": "code",
   "execution_count": 56,
   "metadata": {},
   "outputs": [
    {
     "name": "stdout",
     "output_type": "stream",
     "text": [
      "[[[1.2 5.5 8.7 8.5]\n",
      "  [2.2 4.3 6.5 9.5]]\n",
      "\n",
      " [[6.2 7.3 1.5 3.5]\n",
      "  [6.5 9.5 6.5 4.4]]\n",
      "\n",
      " [[6.2 7.3 7.7 8.5]\n",
      "  [1.5 3.5 8.8 9.2]]]\n",
      "3\n",
      "(3, 2, 4)\n"
     ]
    }
   ],
   "source": [
    "#3D \n",
    "\n",
    "x = np.array([[[1.2,5.5,8.7,8.5],\n",
    "              [2.2,4.3,6.5,9.5]],\n",
    "              [[6.2,7.3,1.5,3.5],\n",
    "              [6.5,9.5,6.5,4.4]],\n",
    "              [[6.2,7.3,7.7,8.5],\n",
    "               [1.5,3.5,8.8,9.2]]\n",
    "             ])\n",
    "print(x)\n",
    "print(x.ndim)\n",
    "print(x.shape)"
   ]
  },
  {
   "cell_type": "code",
   "execution_count": null,
   "metadata": {},
   "outputs": [],
   "source": []
  }
 ],
 "metadata": {
  "kernelspec": {
   "display_name": "Python 3",
   "language": "python",
   "name": "python3"
  },
  "language_info": {
   "codemirror_mode": {
    "name": "ipython",
    "version": 3
   },
   "file_extension": ".py",
   "mimetype": "text/x-python",
   "name": "python",
   "nbconvert_exporter": "python",
   "pygments_lexer": "ipython3",
   "version": "3.7.7"
  }
 },
 "nbformat": 4,
 "nbformat_minor": 4
}
